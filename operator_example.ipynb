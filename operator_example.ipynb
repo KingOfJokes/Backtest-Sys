{
 "cells": [
  {
   "cell_type": "code",
   "execution_count": 1,
   "metadata": {},
   "outputs": [
    {
     "name": "stdout",
     "output_type": "stream",
     "text": [
      "Initializing BacktestData...\n",
      "C://StockDB/data/\n",
      "ret 0.01933850315589585\n",
      "bm_ret 0.019468867\n",
      "Successfully Initializing BacktestData\n",
      "Initializing Operator...\n",
      "Successfuly Initializing Operator\n"
     ]
    }
   ],
   "source": [
    "import os\n",
    "import re\n",
    "import time\n",
    "import sys\n",
    "import numpy as np\n",
    "import numpy.ma as npma\n",
    "import math as m\n",
    "import pandas as pd\n",
    "import seaborn as sns\n",
    "import datetime as dt\n",
    "import matplotlib.pyplot as plt\n",
    "plt.style.use('ggplot')\n",
    "from pandas.plotting import register_matplotlib_converters\n",
    "register_matplotlib_converters()\n",
    "\n",
    "sys.path.append('C:/Users/ryan744/Desktop/')\n",
    "import BackTestModule\n",
    "btd = BackTestModule.BacktestData()\n",
    "op = BackTestModule.Operators()\n",
    "cp = BackTestModule.CalculatePosition()\n",
    "from BackTestModule import Backtest"
   ]
  },
  {
   "cell_type": "code",
   "execution_count": 14,
   "metadata": {},
   "outputs": [
    {
     "name": "stdout",
     "output_type": "stream",
     "text": [
      "mktc\n"
     ]
    },
    {
     "data": {
      "text/plain": [
       "['bm_ret', 'close', 'close_sma60', 'mktc', 'ret', 'sector', 'segment']"
      ]
     },
     "execution_count": 14,
     "metadata": {},
     "output_type": "execute_result"
    }
   ],
   "source": [
    "#btd.database['']\n",
    "import_datas = ['bm_ret', 'close', 'close_sma60','fore', 'mktc', 'ret', 'sector', 'segment']\n",
    "\n",
    "for ibd in import_datas:\n",
    "    print(ibd)\n",
    "    btd.ImportData(ibd,_encoder='utf-8')\n",
    "\n",
    "btd.ShowDFList()"
   ]
  },
  {
   "cell_type": "code",
   "execution_count": 13,
   "metadata": {},
   "outputs": [
    {
     "name": "stdout",
     "output_type": "stream",
     "text": [
      "mktc\n",
      "-Error: mktc.csv  Not Found.\n",
      "Build an Empty File to Continue?(Y/N)n\n",
      "Import Process Interupted.\n"
     ]
    },
    {
     "data": {
      "text/plain": [
       "['bm_ret', 'close', 'close_sma60', 'ret', 'sector', 'segment']"
      ]
     },
     "execution_count": 13,
     "metadata": {},
     "output_type": "execute_result"
    }
   ],
   "source": [
    "import_caches = ['close_sma60']\n",
    "\n",
    "for ibc in import_caches:\n",
    "    print(ibc)\n",
    "    btd.ImportCache(ibc)\n",
    "    \n",
    "btd.ShowDFList()"
   ]
  },
  {
   "cell_type": "code",
   "execution_count": 4,
   "metadata": {},
   "outputs": [
    {
     "name": "stdout",
     "output_type": "stream",
     "text": [
      "close_sma60\n"
     ]
    }
   ],
   "source": [
    "export_datas = ['close_sma60']\n",
    "for exd in export_datas:\n",
    "    print(exd)\n",
    "    #btd.ExportData(exd)"
   ]
  },
  {
   "cell_type": "code",
   "execution_count": null,
   "metadata": {},
   "outputs": [],
   "source": [
    "'''\n",
    "Definition of Kwarg(General Case):\n",
    "df: the input of fx\n",
    "segment_df: df that includes industry-grouping info\n",
    "max_has_maxrank: In \"Rank\" fx, this kwarg means whether largest x get largest f(x). Default set to be \"False\"\n",
    "\n",
    "'''"
   ]
  },
  {
   "cell_type": "code",
   "execution_count": null,
   "metadata": {},
   "outputs": [],
   "source": [
    "dfshell = op.GetDFShell(btd.database['ret'],value=0) #Analog of np.full_like()"
   ]
  },
  {
   "cell_type": "code",
   "execution_count": null,
   "metadata": {},
   "outputs": [],
   "source": [
    "ret_np = btd.database['ret'].values #Fx\n",
    "ret = op.TransNPtoOriDF(ret_np,btd.database['ret']) #Fx(-1)"
   ]
  },
  {
   "cell_type": "code",
   "execution_count": 5,
   "metadata": {},
   "outputs": [],
   "source": [
    "btd.database['close_sma60'] = op.ColumnMean(btd.database['close'],60) #Mean of Cols in such period"
   ]
  },
  {
   "cell_type": "code",
   "execution_count": null,
   "metadata": {},
   "outputs": [],
   "source": [
    "btd.database['close_changerate_fwd'] = op.FwdChangeRate(btd.database['close'],period=n) #c(t+n)/c(t) - 1"
   ]
  },
  {
   "cell_type": "code",
   "execution_count": null,
   "metadata": {},
   "outputs": [],
   "source": [
    "btd.database['close_changerate_bwd'] = op.BwdChangeRate(btd.database['close'],period=n) #c(t)/c(t-n) - 1"
   ]
  },
  {
   "cell_type": "code",
   "execution_count": null,
   "metadata": {},
   "outputs": [],
   "source": [
    "btd.database['close_diff_fwd'] = op.FwdChangeNumber(btd.database['close'],period=n) #c(t+n)-c(t)"
   ]
  },
  {
   "cell_type": "code",
   "execution_count": null,
   "metadata": {},
   "outputs": [],
   "source": [
    "btd.database['close_diff_bwd'] = op.FwdChangeNumber(btd.database['close'],period=n) #c(t)-c(t-n)"
   ]
  },
  {
   "cell_type": "code",
   "execution_count": null,
   "metadata": {},
   "outputs": [],
   "source": [
    "btd.database['segment_firms_count'] = op.SegFirmsCount(btd.database['segment'])\n",
    "#Get number of the company's peers. E.g. If there're 5 IC Foundry in TW, then f('2330') = 5 "
   ]
  },
  {
   "cell_type": "code",
   "execution_count": null,
   "metadata": {},
   "outputs": [],
   "source": [
    "btd.database['segment_mktc_sum'] = op.SegSum(btd.database['mktc'],btd.database['segment'])\n",
    "#Get sum of df for each segment. E.g. If Total mktc of IC Foundry in TW is 100B, then f('2330') = 100B "
   ]
  },
  {
   "cell_type": "code",
   "execution_count": null,
   "metadata": {},
   "outputs": [],
   "source": [
    "btd.database['segment_mktc_mean'] = op.SegMean(btd.database['mktc'],btd.database['segment'])\n",
    "#Get mean of df for each segment. E.g. If Avg. mktc of IC Foundry in TW is 20B, then f('2330') = 20B"
   ]
  },
  {
   "cell_type": "code",
   "execution_count": null,
   "metadata": {},
   "outputs": [],
   "source": [
    "btd.database['segment_mktc_rank'] = op.SegRank(btd.database['mktc'],btd.database['segment'])\n",
    "#Get rank of company in its corresponding segment. E.g. If f('2330') = 1"
   ]
  },
  {
   "cell_type": "code",
   "execution_count": null,
   "metadata": {},
   "outputs": [],
   "source": [
    "kwargs = {'df':btd.database['mktc'],\n",
    "        'segment_df':btd.database['segment'],\n",
    "        'ranked_segment_df':btd.database['segment_mktc_rank'],\n",
    "        'n':1}\n",
    "btd.database['segment_mktc_of_rank1'] = op.SegSubByRankNData(**kwargs)\n",
    "#Get value of number n in company's corresponding segment.\n",
    "#E.g. If TSMC's mktc is 1st in IC foundry and its mktc is 90B, then f('2303') = f('2330') = 90B"
   ]
  },
  {
   "cell_type": "code",
   "execution_count": null,
   "metadata": {},
   "outputs": [],
   "source": [
    "btd.database['segment_mktc_z'] = op.SegZscore(btd.database['mktc'],btd.database['segment'])\n",
    "#Get Zscore of company in its corresponding segment. E.g. f('2330') = (90B-20B)/std(..)"
   ]
  },
  {
   "cell_type": "code",
   "execution_count": null,
   "metadata": {},
   "outputs": [],
   "source": [
    "btd.database['close_sma10'] = op.MovingAverage(btd.database['close'],10) #Expired. ColumnMean can do this job better."
   ]
  },
  {
   "cell_type": "code",
   "execution_count": null,
   "metadata": {},
   "outputs": [],
   "source": [
    "btd.database['close_ema10'] = op.ExpMovingAverage(btd.database['close'],alpha=2/11) \n",
    "#EMAt = alpha*(today)+(1-alpha)*(EMAt-1). Alpha is generally set as 2/(n+1). You might use this while calculating MACD. "
   ]
  },
  {
   "cell_type": "code",
   "execution_count": null,
   "metadata": {},
   "outputs": [],
   "source": [
    "btd.database['mktc_rowmean'] = op.RowMean(btd.database['mktc']) #Clean and Neat!"
   ]
  },
  {
   "cell_type": "code",
   "execution_count": null,
   "metadata": {},
   "outputs": [],
   "source": [
    "btd.database['mktc_rowstd'] = op.RowStd(btd.database['mktc']) #Clean and Neat!"
   ]
  },
  {
   "cell_type": "code",
   "execution_count": null,
   "metadata": {},
   "outputs": [],
   "source": [
    "btd.database['mktc_rowz'] = op.RowZscore(btd.database['mktc']) #You can get cross-sectional comparison by this"
   ]
  },
  {
   "cell_type": "code",
   "execution_count": null,
   "metadata": {},
   "outputs": [],
   "source": [
    "btd.database['fore_stack'] = op.ColumnStack(btd.database['fore']) #Get the stack(存量) of such df. You can consider this as ColumnSum which always begin from row0"
   ]
  },
  {
   "cell_type": "code",
   "execution_count": null,
   "metadata": {},
   "outputs": [],
   "source": [
    "btd.database['close_max60'] = op.ColumnMax(btd.database['close'],60) #Get max price in last 60 days"
   ]
  },
  {
   "cell_type": "code",
   "execution_count": null,
   "metadata": {},
   "outputs": [],
   "source": [
    "btd.database['close_min60'] = op.ColumnMin(btd.database['close'],60) #Get min price in last 60 days"
   ]
  },
  {
   "cell_type": "code",
   "execution_count": null,
   "metadata": {},
   "outputs": [],
   "source": [
    "btd.database['close_RSV60'] = op.ColumnRSV(btd.database['close'],60) #Set Max(Min) value as 100(0) in 60 days,and get current number's analog value"
   ]
  },
  {
   "cell_type": "code",
   "execution_count": null,
   "metadata": {},
   "outputs": [],
   "source": [
    "btd.database['fore_sum60'] = op.ColumnSum(btd.database['fore'],60) #Get Sum of such df in last 60 days"
   ]
  },
  {
   "cell_type": "code",
   "execution_count": null,
   "metadata": {},
   "outputs": [],
   "source": [
    "btd.database['close_sma60'] = op.ColumnMean(btd.database['close'],60) #Get Mean of such df in last 60 days"
   ]
  },
  {
   "cell_type": "code",
   "execution_count": null,
   "metadata": {},
   "outputs": [],
   "source": [
    "btd.database['ret_bwd_std60'] = op.ColumnMean(btd.database['ret_bwd'],60) #Get Stdev of such df in last 60 days"
   ]
  },
  {
   "cell_type": "code",
   "execution_count": null,
   "metadata": {},
   "outputs": [],
   "source": [
    "btd.database['close_z60'] = op.ColumnZscore(btd.database['close'],60) \n",
    "#Get Zscore of such df in last 60 days. You can derive Bollinger Band by such function"
   ]
  },
  {
   "cell_type": "code",
   "execution_count": null,
   "metadata": {},
   "outputs": [],
   "source": [
    "temp = op.ColumnCorr(btd.database['ret_bwd'],['2317'.'2330']) #Get Corr Matrix of listed firms"
   ]
  },
  {
   "cell_type": "code",
   "execution_count": null,
   "metadata": {},
   "outputs": [],
   "source": [
    "temp = op.ColumnCorrDesc(btd.database['ret_bwd']) #Get most correlated firms by descending order"
   ]
  },
  {
   "cell_type": "code",
   "execution_count": null,
   "metadata": {},
   "outputs": [],
   "source": [
    "temp = op.ColumnCorrAsc(btd.database['ret_bwd']) #Get most correlated firms by ascending order"
   ]
  },
  {
   "cell_type": "code",
   "execution_count": null,
   "metadata": {},
   "outputs": [],
   "source": [
    "temp = op.NDayCorrOfTwoArray(btd.database['fore'],btd.database['ret'],60)\n",
    "#Get Corr of two dfs in last 60 days. In this case, you know whether the \"Buy\" of  \"foreinger\" contributes to rise or fall for each stock"
   ]
  },
  {
   "cell_type": "code",
   "execution_count": null,
   "metadata": {},
   "outputs": [],
   "source": [
    "#op.Compound,Discompund will not be used in operating indicies"
   ]
  },
  {
   "cell_type": "code",
   "execution_count": null,
   "metadata": {},
   "outputs": [],
   "source": [
    "btd.database['ret_bwd_5d'] = op.NDayRetBwd(btd.database['ret_bwd'],5) #Get 5-day bwd return by 1-day bwd return"
   ]
  },
  {
   "cell_type": "code",
   "execution_count": null,
   "metadata": {},
   "outputs": [],
   "source": [
    "btd.database['ret_fwd_5d'] = op.NDayRetBwd(btd.database['ret'],5) #Get 5-day fwd return by 1-day fwd return"
   ]
  },
  {
   "cell_type": "code",
   "execution_count": null,
   "metadata": {},
   "outputs": [],
   "source": [
    "btd.database['fore_sign'] = op.Sign(btd.database['fore']) #Get sing(+/-) of df"
   ]
  },
  {
   "cell_type": "code",
   "execution_count": null,
   "metadata": {},
   "outputs": [],
   "source": [
    "btd.database['fore_sign_streak'] = op.SignStreak(btd.database['fore'])\n",
    "#Get Streak of a sign-like df. By using this with last cell,you can get \"foreinger's\" buying spree\n",
    "#You should get sign of df first, and then drop it into this function"
   ]
  },
  {
   "cell_type": "code",
   "execution_count": null,
   "metadata": {},
   "outputs": [],
   "source": [
    "btd.database['mktc_rank'] = op.Rank(btd.database['mktc'],max_has_maxrank=False) \n",
    "#Get cross-setional rank of such df.In default,max value of df yield 1st"
   ]
  },
  {
   "cell_type": "code",
   "execution_count": null,
   "metadata": {},
   "outputs": [],
   "source": [
    "btd.database['mktc_PR'] = op.PR(btd.database['mktc'],max_has_maxrank=True) \n",
    "#Get cross-setional PR of such df(0~100).In default,max value of df yield PR99"
   ]
  },
  {
   "cell_type": "code",
   "execution_count": null,
   "metadata": {},
   "outputs": [],
   "source": [
    "'''\n",
    "some function that might help you cope with ML task:\n",
    "op.LinearCombination(weight_list=[],df_list=[]) \n",
    "op.Perceptron(weight_list=[],df_list=[],activate_func='',params_for_actfunc={})\n",
    " Activate funtions:\n",
    "  BinaryStep(df,interval=(lb,ub),unact_value=0,include_bound=True)\n",
    "  Sigmoid(df)\n",
    "  Tanh(df)\n",
    "  RELU(df,threshold)\n",
    "  LeakyRELU(df,threshold,slope) slope is the slope when RELU is unactivated\n",
    "  Softmax(df)\n",
    "  Swish(df,threshold)\n",
    "'''"
   ]
  },
  {
   "cell_type": "code",
   "execution_count": null,
   "metadata": {},
   "outputs": [],
   "source": [
    "isicfoundry = op.StringEqual(btd.database['segment'],analog_str_list=['晶圓代工'])\n",
    "#Get a (0/1) df. There can be more than one element in analog_str_list,operating logic:once satisfied->1"
   ]
  },
  {
   "cell_type": "code",
   "execution_count": null,
   "metadata": {},
   "outputs": [],
   "source": [
    "ispathetic = op.StringElimination(btd.database['segment'],analog_str_list=['光碟'])\n",
    "#Get a (0/1) df. There can be more than one element in analog_str_list,operating logic:once satisfied->0"
   ]
  },
  {
   "cell_type": "code",
   "execution_count": null,
   "metadata": {},
   "outputs": [],
   "source": [
    "# op.Extend1DTSto2D(df_1d,target_df) help you broaden a 1D-time-series data toward shape like target df.\n",
    "# e.g. by comparing btd.database['ret_bwd'] and op.Extend1DTSto2D(btd.database['bm_ret_bwd']), you can know if such firms outperform benchmark or not."
   ]
  },
  {
   "cell_type": "code",
   "execution_count": null,
   "metadata": {},
   "outputs": [],
   "source": [
    "# op.Extend1DCSto2D(df_1d,target_df) help you broaden a 1D-cross-sectional-series data toward shape like target df.\n",
    "# Similarly with last cell."
   ]
  },
  {
   "cell_type": "code",
   "execution_count": null,
   "metadata": {},
   "outputs": [],
   "source": [
    "# op.TrimColumns(ori_df,target_df) make columns of \"ori_df\" in sync with \"target_df\""
   ]
  },
  {
   "cell_type": "code",
   "execution_count": null,
   "metadata": {},
   "outputs": [],
   "source": [
    "# op.TrimDF(ori_df,target_df) make index of \"ori_df\" in sync with \"target_df\" (NOTE: same columns preferred!)"
   ]
  },
  {
   "cell_type": "code",
   "execution_count": null,
   "metadata": {},
   "outputs": [],
   "source": [
    "# op.MaxOfManyArray,op.MinOfManyArray seldom used."
   ]
  }
 ],
 "metadata": {
  "kernelspec": {
   "display_name": "Python 3",
   "language": "python",
   "name": "python3"
  },
  "language_info": {
   "codemirror_mode": {
    "name": "ipython",
    "version": 3
   },
   "file_extension": ".py",
   "mimetype": "text/x-python",
   "name": "python",
   "nbconvert_exporter": "python",
   "pygments_lexer": "ipython3",
   "version": "3.7.3"
  }
 },
 "nbformat": 4,
 "nbformat_minor": 2
}
